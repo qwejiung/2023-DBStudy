{
  "nbformat": 4,
  "nbformat_minor": 0,
  "metadata": {
    "colab": {
      "provenance": [],
      "authorship_tag": "ABX9TyNg7P4SLGoU6qEYnPhOXnzT",
      "include_colab_link": true
    },
    "kernelspec": {
      "name": "python3",
      "display_name": "Python 3"
    },
    "language_info": {
      "name": "python"
    }
  },
  "cells": [
    {
      "cell_type": "markdown",
      "metadata": {
        "id": "view-in-github",
        "colab_type": "text"
      },
      "source": [
        "<a href=\"https://colab.research.google.com/github/Hoya324/2023-DBStudy/blob/main/2024_09_11_%EC%8B%A4%EC%8A%B5.ipynb\" target=\"_parent\"><img src=\"https://colab.research.google.com/assets/colab-badge.svg\" alt=\"Open In Colab\"/></a>"
      ]
    },
    {
      "cell_type": "code",
      "source": [
        "!pip install seabor"
      ],
      "metadata": {
        "colab": {
          "base_uri": "https://localhost:8080/"
        },
        "id": "rksrty7PGT1m",
        "outputId": "76f1d34b-c715-4995-b536-6c24a0512813"
      },
      "execution_count": null,
      "outputs": [
        {
          "output_type": "stream",
          "name": "stdout",
          "text": [
            "Requirement already satisfied: seaborn in /usr/local/lib/python3.10/dist-packages (0.13.1)\n",
            "Requirement already satisfied: numpy!=1.24.0,>=1.20 in /usr/local/lib/python3.10/dist-packages (from seaborn) (1.26.4)\n",
            "Requirement already satisfied: pandas>=1.2 in /usr/local/lib/python3.10/dist-packages (from seaborn) (2.1.4)\n",
            "Requirement already satisfied: matplotlib!=3.6.1,>=3.4 in /usr/local/lib/python3.10/dist-packages (from seaborn) (3.7.1)\n",
            "Requirement already satisfied: contourpy>=1.0.1 in /usr/local/lib/python3.10/dist-packages (from matplotlib!=3.6.1,>=3.4->seaborn) (1.3.0)\n",
            "Requirement already satisfied: cycler>=0.10 in /usr/local/lib/python3.10/dist-packages (from matplotlib!=3.6.1,>=3.4->seaborn) (0.12.1)\n",
            "Requirement already satisfied: fonttools>=4.22.0 in /usr/local/lib/python3.10/dist-packages (from matplotlib!=3.6.1,>=3.4->seaborn) (4.53.1)\n",
            "Requirement already satisfied: kiwisolver>=1.0.1 in /usr/local/lib/python3.10/dist-packages (from matplotlib!=3.6.1,>=3.4->seaborn) (1.4.5)\n",
            "Requirement already satisfied: packaging>=20.0 in /usr/local/lib/python3.10/dist-packages (from matplotlib!=3.6.1,>=3.4->seaborn) (24.1)\n",
            "Requirement already satisfied: pillow>=6.2.0 in /usr/local/lib/python3.10/dist-packages (from matplotlib!=3.6.1,>=3.4->seaborn) (9.4.0)\n",
            "Requirement already satisfied: pyparsing>=2.3.1 in /usr/local/lib/python3.10/dist-packages (from matplotlib!=3.6.1,>=3.4->seaborn) (3.1.4)\n",
            "Requirement already satisfied: python-dateutil>=2.7 in /usr/local/lib/python3.10/dist-packages (from matplotlib!=3.6.1,>=3.4->seaborn) (2.8.2)\n",
            "Requirement already satisfied: pytz>=2020.1 in /usr/local/lib/python3.10/dist-packages (from pandas>=1.2->seaborn) (2024.1)\n",
            "Requirement already satisfied: tzdata>=2022.1 in /usr/local/lib/python3.10/dist-packages (from pandas>=1.2->seaborn) (2024.1)\n",
            "Requirement already satisfied: six>=1.5 in /usr/local/lib/python3.10/dist-packages (from python-dateutil>=2.7->matplotlib!=3.6.1,>=3.4->seaborn) (1.16.0)\n",
            "\u001b[31mERROR: Operation cancelled by user\u001b[0m\u001b[31m\n",
            "\u001b[0m"
          ]
        }
      ]
    },
    {
      "cell_type": "code",
      "execution_count": null,
      "metadata": {
        "colab": {
          "base_uri": "https://localhost:8080/"
        },
        "id": "GOPl7VjdFyYk",
        "outputId": "95bf1097-fb7b-4fe8-9049-a43839e4629e"
      },
      "outputs": [
        {
          "output_type": "stream",
          "name": "stdout",
          "text": [
            "Mounted at /content/gdrive\n"
          ]
        }
      ],
      "source": [
        "from google.colab import auth\n",
        "auth.authenticate_user()\n",
        "\n",
        "from google.colab import drive\n",
        "drive.mount('/content/gdrive')"
      ]
    },
    {
      "cell_type": "code",
      "source": [
        "import numpy as np\n",
        "import pandas as pd\n",
        "from sklearn import model_selection\n",
        "from sklearn. linear_model import LogisticRegression\n",
        "from sklearn import metrics\n",
        "from sklearn.datasets import fetch_openml\n",
        "## dataset load\n",
        "\n",
        "mnist = fetch_openml ('mnist_784')\n",
        "mnist.data. shape, mnist. target.shape\n",
        "x_data = mnist.data\n",
        "y_data = mnist. target"
      ],
      "metadata": {
        "colab": {
          "base_uri": "https://localhost:8080/"
        },
        "id": "lUvWUiAgHcND",
        "outputId": "51139dbc-0e0e-4da9-ba2f-9bd2a09f8326"
      },
      "execution_count": null,
      "outputs": [
        {
          "output_type": "stream",
          "name": "stderr",
          "text": [
            "/usr/local/lib/python3.10/dist-packages/sklearn/datasets/_openml.py:1022: FutureWarning: The default value of `parser` will change from `'liac-arff'` to `'auto'` in 1.4. You can set `parser='auto'` to silence this warning. Therefore, an `ImportError` will be raised from 1.4 if the dataset is dense and pandas is not installed. Note that the pandas parser may return different data types. See the Notes Section in fetch_openml's API doc for details.\n",
            "  warn(\n"
          ]
        }
      ]
    },
    {
      "cell_type": "code",
      "source": [
        "print(x_data.shape)\n",
        "print(y_data.shape)"
      ],
      "metadata": {
        "colab": {
          "base_uri": "https://localhost:8080/"
        },
        "id": "_r1R4PbwIXSA",
        "outputId": "af59d35d-eb71-4059-ad50-6fdb824718b9"
      },
      "execution_count": null,
      "outputs": [
        {
          "output_type": "stream",
          "name": "stdout",
          "text": [
            "(70000, 784)\n",
            "(70000,)\n"
          ]
        }
      ]
    },
    {
      "cell_type": "code",
      "source": [
        "print(x_data.iloc[0])\n",
        "print(y_data.iloc[0])"
      ],
      "metadata": {
        "colab": {
          "base_uri": "https://localhost:8080/"
        },
        "id": "1iS0xuPzIoGB",
        "outputId": "0c46d17a-0c21-4e9d-b25b-98305a91219e"
      },
      "execution_count": null,
      "outputs": [
        {
          "output_type": "stream",
          "name": "stdout",
          "text": [
            "pixel1      0.0\n",
            "pixel2      0.0\n",
            "pixel3      0.0\n",
            "pixel4      0.0\n",
            "pixel5      0.0\n",
            "           ... \n",
            "pixel780    0.0\n",
            "pixel781    0.0\n",
            "pixel782    0.0\n",
            "pixel783    0.0\n",
            "pixel784    0.0\n",
            "Name: 0, Length: 784, dtype: float64\n",
            "5\n"
          ]
        }
      ]
    },
    {
      "cell_type": "code",
      "source": [
        "import matplotlib.pyplot as plt\n",
        "%matplotlib inline\n",
        "plt. imshow(x_data. iloc[0].values. reshape (28,28), cmap='gray')"
      ],
      "metadata": {
        "colab": {
          "base_uri": "https://localhost:8080/",
          "height": 448
        },
        "id": "Ax__gk_pIzCK",
        "outputId": "eb02f06d-be83-4a8a-d64f-92c96b43a5db"
      },
      "execution_count": null,
      "outputs": [
        {
          "output_type": "execute_result",
          "data": {
            "text/plain": [
              "<matplotlib.image.AxesImage at 0x7c7c0f1b06d0>"
            ]
          },
          "metadata": {},
          "execution_count": 10
        },
        {
          "output_type": "display_data",
          "data": {
            "text/plain": [
              "<Figure size 640x480 with 1 Axes>"
            ],
            "image/png": "[encoded data removed]"
          },
          "metadata": {}
        }
      ]
    },
    {
      "cell_type": "code",
      "source": [
        "#training / test data split\n",
        "from sklearn.model_selection import train_test_split\n",
        "X_train, X_test, Y_train, Y_test = train_test_split(x_data, y_data, test\n",
        "_size=0.20, random_state=4\n",
        "print (X_train. shape) print (_test. shape) print (y_train. shape) print (y_test. shape)"
      ],
      "metadata": {
        "id": "RgGs5VrxJsus"
      },
      "execution_count": null,
      "outputs": []
    },
    {
      "cell_type": "code",
      "source": [
        "from sklearn.model_selection import train_test_split\n",
        "import numpy as np\n",
        "import pandas as pd\n",
        "from sklearn import model_selection\n",
        "from sklearn.linear_model import LogisticRegression\n",
        "from sklearn import metrics\n",
        "from sklearn.datasets import fetch_openml\n",
        "\n",
        "mnist = fetch_openml ('mnist_784')\n",
        "mnist.data. shape, mnist. target.shape\n",
        "x_data = mnist.data\n",
        "y_data = mnist. target\n",
        "\n",
        "X_train, X_test, y_train, y_test = train_test_split(x_data, y_data, test_size=0.20, random_state=42)\n",
        "\n",
        "model = LogisticRegression(max_iter=10, tol=0.0001, penalty='l2', C=1.0)\n",
        "\n",
        "model.fit(X_train, y_train)\n",
        "\n",
        "y_train_predict = model. predict(X_train)\n",
        "train_acc = metrics.accuracy_score(y_train, y_train_predict)\n",
        "print(train_acc)\n",
        "y_test_predict = model.predict(X_test)\n",
        "test_acc = metrics.accuracy_score(y_test, y_test_predict)\n",
        "print(test_acc)"
      ],
      "metadata": {
        "colab": {
          "base_uri": "https://localhost:8080/"
        },
        "id": "odqGoTvL6mpc",
        "outputId": "1873433e-354b-41cd-b662-c075c2570b5c"
      },
      "execution_count": null,
      "outputs": [
        {
          "output_type": "stream",
          "name": "stderr",
          "text": [
            "/usr/local/lib/python3.10/dist-packages/sklearn/datasets/_openml.py:1022: FutureWarning: The default value of `parser` will change from `'liac-arff'` to `'auto'` in 1.4. You can set `parser='auto'` to silence this warning. Therefore, an `ImportError` will be raised from 1.4 if the dataset is dense and pandas is not installed. Note that the pandas parser may return different data types. See the Notes Section in fetch_openml's API doc for details.\n",
            "  warn(\n",
            "/usr/local/lib/python3.10/dist-packages/sklearn/linear_model/_logistic.py:460: ConvergenceWarning: lbfgs failed to converge (status=1):\n",
            "STOP: TOTAL NO. of ITERATIONS REACHED LIMIT.\n",
            "\n",
            "Increase the number of iterations (max_iter) or scale the data as shown in:\n",
            "    https://scikit-learn.org/stable/modules/preprocessing.html\n",
            "Please also refer to the documentation for alternative solver options:\n",
            "    https://scikit-learn.org/stable/modules/linear_model.html#logistic-regression\n",
            "  n_iter_i = _check_optimize_result(\n"
          ]
        },
        {
          "output_type": "stream",
          "name": "stdout",
          "text": [
            "0.8824107142857143\n",
            "0.8825714285714286\n"
          ]
        }
      ]
    },
    {
      "cell_type": "code",
      "source": [
        "import numpy as np\n",
        "\n",
        "# 행렬 X의 각 열들의 평균\n",
        "X = np.array([\n",
        "    [1, 1, 1, 0, 0],\n",
        "    [3, 3, 3, 0, 0],\n",
        "    [4, 4, 4, 0, 0],\n",
        "    [5, 5, 5, 0, 0],\n",
        "    [0, 2, 0, 4, 4],\n",
        "    [0, 0, 0, 5, 5],\n",
        "    [0, 1, 0, 2, 2]\n",
        "])\n",
        "\n",
        "# 각 열의 평균\n",
        "mu = X.mean(axis=0)\n",
        "\n",
        "print(mu)"
      ],
      "metadata": {
        "colab": {
          "base_uri": "https://localhost:8080/"
        },
        "id": "np50fgR18xDd",
        "outputId": "b746699e-bf8d-4577-8398-4ff626fb7db3"
      },
      "execution_count": 15,
      "outputs": [
        {
          "output_type": "stream",
          "name": "stdout",
          "text": [
            "[1.85714286 2.28571429 1.85714286 1.57142857 1.57142857]\n"
          ]
        }
      ]
    },
    {
      "cell_type": "code",
      "source": [
        "# 각 값에서 평균 제거\n",
        "X_centered = X - mu # X - u\n",
        "\n",
        "print(X_centered)"
      ],
      "metadata": {
        "colab": {
          "base_uri": "https://localhost:8080/"
        },
        "id": "Pfd2B6rlGdhM",
        "outputId": "301c7891-17d0-467f-ce1e-8deaf3bea6fb"
      },
      "execution_count": 21,
      "outputs": [
        {
          "output_type": "stream",
          "name": "stdout",
          "text": [
            "[[-0.85714286 -1.28571429 -0.85714286 -1.57142857 -1.57142857]\n",
            " [ 1.14285714  0.71428571  1.14285714 -1.57142857 -1.57142857]\n",
            " [ 2.14285714  1.71428571  2.14285714 -1.57142857 -1.57142857]\n",
            " [ 3.14285714  2.71428571  3.14285714 -1.57142857 -1.57142857]\n",
            " [-1.85714286 -0.28571429 -1.85714286  2.42857143  2.42857143]\n",
            " [-1.85714286 -2.28571429 -1.85714286  3.42857143  3.42857143]\n",
            " [-1.85714286 -1.28571429 -1.85714286  0.42857143  0.42857143]]\n"
          ]
        }
      ]
    },
    {
      "cell_type": "code",
      "source": [
        "cov_X = np.cov(X_centered, rowvar=False)\n",
        "\n",
        "print(cov_X)"
      ],
      "metadata": {
        "colab": {
          "base_uri": "https://localhost:8080/"
        },
        "id": "yksA49j084sQ",
        "outputId": "dbd8342f-fba2-4374-b52a-0fc9ef519e06"
      },
      "execution_count": 22,
      "outputs": [
        {
          "output_type": "stream",
          "name": "stdout",
          "text": [
            "[[ 4.47619048  3.54761905  4.47619048 -3.4047619  -3.4047619 ]\n",
            " [ 3.54761905  3.23809524  3.54761905 -2.52380952 -2.52380952]\n",
            " [ 4.47619048  3.54761905  4.47619048 -3.4047619  -3.4047619 ]\n",
            " [-3.4047619  -2.52380952 -3.4047619   4.61904762  4.61904762]\n",
            " [-3.4047619  -2.52380952 -3.4047619   4.61904762  4.61904762]]\n"
          ]
        }
      ]
    },
    {
      "cell_type": "code",
      "source": [
        "eigenvalues, Q_eigen_vectors = np.linalg.eig(cov_X)\n",
        "\n",
        "print(Q_eigenvectors)"
      ],
      "metadata": {
        "colab": {
          "base_uri": "https://localhost:8080/"
        },
        "id": "y6H-bgkFGvJ9",
        "outputId": "07babad7-4df5-4b9a-d97a-620b3eee050f"
      },
      "execution_count": 23,
      "outputs": [
        {
          "output_type": "stream",
          "name": "stdout",
          "text": [
            "[[ 4.71496193e-01  3.55832289e-01 -7.07106781e-01  3.88683319e-01\n",
            "   2.38840737e-02]\n",
            " [ 3.73691150e-01  4.12383958e-01  2.01204211e-15 -8.30839573e-01\n",
            "  -1.41812677e-16]\n",
            " [ 4.71496193e-01  3.55832289e-01  7.07106781e-01  3.88683319e-01\n",
            "  -2.38840737e-02]\n",
            " [-4.55926313e-01  5.36985212e-01 -7.53994246e-17  6.14660890e-02\n",
            "  -7.06703298e-01]\n",
            " [-4.55926313e-01  5.36985212e-01 -1.13563341e-16  6.14660890e-02\n",
            "   7.06703298e-01]]\n"
          ]
        }
      ]
    },
    {
      "cell_type": "code",
      "source": [
        "selected_Q_eigen_vectors = Q_eigen_vectors[:, :2]"
      ],
      "metadata": {
        "id": "4-slcFxw85tU"
      },
      "execution_count": 24,
      "outputs": []
    },
    {
      "cell_type": "code",
      "source": [
        "X_PCA = np.dot(X_centered, selected_Q_eigen_vectors)\n",
        "\n",
        "print(X_PCA)"
      ],
      "metadata": {
        "colab": {
          "base_uri": "https://localhost:8080/"
        },
        "id": "BGHuEt7j87ZZ",
        "outputId": "8099054d-75a6-42b6-c2a9-b26141e659a9"
      },
      "execution_count": 25,
      "outputs": [
        {
          "output_type": "stream",
          "name": "stdout",
          "text": [
            "[[ 0.14417203 -2.82787396]\n",
            " [ 2.7775391  -0.57977689]\n",
            " [ 4.09422264  0.54427165]\n",
            " [ 5.41090617  1.66832018]\n",
            " [-4.07253971  1.16872711]\n",
            " [-5.73177463  1.41792961]\n",
            " [-2.6225256  -1.3915977 ]]\n"
          ]
        }
      ]
    },
    {
      "cell_type": "code",
      "source": [
        "cov_X_PCA = np.cov(X_PCA.T)\n",
        "\n",
        "print(cov_X_PCA)"
      ],
      "metadata": {
        "colab": {
          "base_uri": "https://localhost:8080/"
        },
        "id": "lhZqaUSE89Yu",
        "outputId": "ceff584e-5f01-443f-dc40-34553e153b46"
      },
      "execution_count": 27,
      "outputs": [
        {
          "output_type": "stream",
          "name": "stdout",
          "text": [
            "[[1.83487557e+01 5.95209621e-16]\n",
            " [5.95209621e-16 2.78758798e+00]]\n"
          ]
        }
      ]
    }
  ]
}